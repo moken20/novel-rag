{
 "cells": [
  {
   "cell_type": "code",
   "execution_count": 17,
   "metadata": {},
   "outputs": [],
   "source": [
    "import sys\n",
    "import os\n",
    "import glob\n",
    "sys.path.append(os.path.abspath('..'))\n",
    "\n",
    "import pandas as pd\n",
    "from src.env import PACKAGE_DIR\n",
    "from src.utils.file_io import extract_id_from_filename\n",
    "query_df = pd.read_csv(PACKAGE_DIR/'data/raw/test_sets/query.csv')\n",
    "metadata = pd.read_csv(PACKAGE_DIR/'data/processed/test_sets/metadata.csv')\n",
    "novel_dir = PACKAGE_DIR.joinpath('data/raw/test_sets/novels')\n",
    "raw_files = glob.glob(str(novel_dir.joinpath('*')))"
   ]
  },
  {
   "cell_type": "code",
   "execution_count": 18,
   "metadata": {},
   "outputs": [],
   "source": [
    "def get_relevant_novel_ids(keywords: str):\n",
    "    keyword_list = keywords.split('、')\n",
    "    relevant_novel_ids = []\n",
    "    for raw_file in raw_files:\n",
    "        with open(raw_file, mode='r', encoding='shift-jis') as f:\n",
    "            text = f.read()\n",
    "            for keyword in keyword_list:\n",
    "                if keyword.strip() in text:\n",
    "                    relevant_novel_ids.append(int(extract_id_from_filename(raw_file)))\n",
    "                    break\n",
    "\n",
    "    return relevant_novel_ids"
   ]
  },
  {
   "cell_type": "code",
   "execution_count": 19,
   "metadata": {},
   "outputs": [],
   "source": [
    "query_df['relevant_novel_id'] = query_df['keyword'].apply(get_relevant_novel_ids)"
   ]
  },
  {
   "cell_type": "code",
   "execution_count": 22,
   "metadata": {},
   "outputs": [],
   "source": [
    "query_df.to_csv(PACKAGE_DIR/'data/processed/test_sets/query.csv', index=False)"
   ]
  }
 ],
 "metadata": {
  "kernelspec": {
   "display_name": "rag-1-meYwZ3LN-py3.10",
   "language": "python",
   "name": "python3"
  },
  "language_info": {
   "codemirror_mode": {
    "name": "ipython",
    "version": 3
   },
   "file_extension": ".py",
   "mimetype": "text/x-python",
   "name": "python",
   "nbconvert_exporter": "python",
   "pygments_lexer": "ipython3",
   "version": "3.10.1"
  }
 },
 "nbformat": 4,
 "nbformat_minor": 2
}
