{
 "cells": [
  {
   "cell_type": "code",
   "execution_count": null,
   "metadata": {},
   "outputs": [],
   "source": [
    "import sys\n",
    "import os\n",
    "\n",
    "sys.path.append(os.path.abspath('..'))\n",
    "from scripts.build_index import build_index\n",
    "from src.utils.call_api.schema import EmbeddingEngineEnum\n",
    "from src.retrievers.models.vector_retriever import VectorRetriever\n",
    "from configulator.config import default_config"
   ]
  },
  {
   "cell_type": "code",
   "execution_count": null,
   "metadata": {},
   "outputs": [],
   "source": [
    "cfg = default_config()"
   ]
  },
  {
   "cell_type": "code",
   "execution_count": null,
   "metadata": {},
   "outputs": [],
   "source": [
    "augmented_index_df = build_index(mode=cfg.mode, chunksize=cfg.chunksize, overlap=cfg.overlap)\n",
    "\n",
    "# normal index\n",
    "normal_index = augmented_index_df.drop_duplicates(subset='text')\n",
    "vecretriever = VectorRetriever(normal_index, model=EmbeddingEngineEnum.Large)\n",
    "\n",
    "# augmented index検索\n",
    "aug_vecretriever = VectorRetriever(augmented_index_df,\n",
    "                                   emb_column_name='augmented_embedding',\n",
    "                                   target_column_name='augmented_text',\n",
    "                                   model=EmbeddingEngineEnum.Large\n",
    "                                   )\n",
    "# save index\n",
    "vec_index_df = aug_vecretriever.index_df.merge(vecretriever.index_df[['novel_id', 'chunk_id', 'embedding']], on=['novel_id', 'chunk_id'])\n",
    "index_path = cfg.index_path\n",
    "vec_index_df.to_csv(index_path)"
   ]
  }
 ],
 "metadata": {
  "kernelspec": {
   "display_name": "rag-1-meYwZ3LN-py3.10",
   "language": "python",
   "name": "python3"
  },
  "language_info": {
   "codemirror_mode": {
    "name": "ipython",
    "version": 3
   },
   "file_extension": ".py",
   "mimetype": "text/x-python",
   "name": "python",
   "nbconvert_exporter": "python",
   "pygments_lexer": "ipython3",
   "version": "3.10.1"
  }
 },
 "nbformat": 4,
 "nbformat_minor": 2
}
