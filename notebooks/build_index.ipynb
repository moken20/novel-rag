{
 "cells": [
  {
   "cell_type": "code",
   "execution_count": 1,
   "metadata": {},
   "outputs": [],
   "source": [
    "import sys\n",
    "import os\n",
    "import itertools\n",
    "\n",
    "sys.path.append(os.path.abspath('..'))\n",
    "from scripts.build_index import run"
   ]
  },
  {
   "cell_type": "code",
   "execution_count": 2,
   "metadata": {},
   "outputs": [],
   "source": [
    "chunksize = [250, 300, 350, 400, 450, 500]\n",
    "overlap = [0.2, 0.3, 0.4, 0.5]\n",
    "comb_list = list(itertools.product(chunksize, overlap))"
   ]
  },
  {
   "cell_type": "code",
   "execution_count": 3,
   "metadata": {},
   "outputs": [
    {
     "name": "stderr",
     "output_type": "stream",
     "text": [
      "Created a chunk of size 609, which is longer than the specified 250\n",
      "Created a chunk of size 354, which is longer than the specified 250\n",
      "Created a chunk of size 294, which is longer than the specified 250\n",
      "Created a chunk of size 253, which is longer than the specified 250\n",
      "Created a chunk of size 251, which is longer than the specified 250\n",
      "87it [06:37,  4.57s/it]\n",
      "Created a chunk of size 609, which is longer than the specified 250\n",
      "Created a chunk of size 354, which is longer than the specified 250\n",
      "Created a chunk of size 294, which is longer than the specified 250\n",
      "Created a chunk of size 253, which is longer than the specified 250\n",
      "Created a chunk of size 251, which is longer than the specified 250\n"
     ]
    },
    {
     "name": "stdout",
     "output_type": "stream",
     "text": [
      "base index df size is 87, augmented index df size is 843\n"
     ]
    },
    {
     "name": "stderr",
     "output_type": "stream",
     "text": [
      "91it [07:11,  4.74s/it]\n",
      "Created a chunk of size 609, which is longer than the specified 250\n",
      "Created a chunk of size 354, which is longer than the specified 250\n",
      "Created a chunk of size 294, which is longer than the specified 250\n",
      "Created a chunk of size 253, which is longer than the specified 250\n",
      "Created a chunk of size 251, which is longer than the specified 250\n"
     ]
    },
    {
     "name": "stdout",
     "output_type": "stream",
     "text": [
      "base index df size is 91, augmented index df size is 865\n"
     ]
    },
    {
     "name": "stderr",
     "output_type": "stream",
     "text": [
      "96it [07:02,  4.40s/it]\n",
      "Created a chunk of size 609, which is longer than the specified 250\n",
      "Created a chunk of size 354, which is longer than the specified 250\n",
      "Created a chunk of size 294, which is longer than the specified 250\n",
      "Created a chunk of size 253, which is longer than the specified 250\n",
      "Created a chunk of size 251, which is longer than the specified 250\n"
     ]
    },
    {
     "name": "stdout",
     "output_type": "stream",
     "text": [
      "base index df size is 96, augmented index df size is 933\n"
     ]
    },
    {
     "name": "stderr",
     "output_type": "stream",
     "text": [
      "110it [08:24,  4.59s/it]\n",
      "Created a chunk of size 609, which is longer than the specified 300\n",
      "Created a chunk of size 354, which is longer than the specified 300\n"
     ]
    },
    {
     "name": "stdout",
     "output_type": "stream",
     "text": [
      "base index df size is 110, augmented index df size is 1055\n"
     ]
    },
    {
     "name": "stderr",
     "output_type": "stream",
     "text": [
      "76it [05:35,  4.42s/it]\n",
      "Created a chunk of size 609, which is longer than the specified 300\n",
      "Created a chunk of size 354, which is longer than the specified 300\n"
     ]
    },
    {
     "name": "stdout",
     "output_type": "stream",
     "text": [
      "base index df size is 76, augmented index df size is 724\n"
     ]
    },
    {
     "name": "stderr",
     "output_type": "stream",
     "text": [
      "79it [05:20,  4.05s/it]\n",
      "Created a chunk of size 609, which is longer than the specified 300\n",
      "Created a chunk of size 354, which is longer than the specified 300\n"
     ]
    },
    {
     "name": "stdout",
     "output_type": "stream",
     "text": [
      "base index df size is 79, augmented index df size is 745\n"
     ]
    },
    {
     "name": "stderr",
     "output_type": "stream",
     "text": [
      "87it [06:32,  4.51s/it]\n",
      "Created a chunk of size 609, which is longer than the specified 300\n",
      "Created a chunk of size 354, which is longer than the specified 300\n"
     ]
    },
    {
     "name": "stdout",
     "output_type": "stream",
     "text": [
      "base index df size is 87, augmented index df size is 789\n"
     ]
    },
    {
     "name": "stderr",
     "output_type": "stream",
     "text": [
      "98it [07:23,  4.53s/it]\n",
      "Created a chunk of size 609, which is longer than the specified 350\n",
      "Created a chunk of size 354, which is longer than the specified 350\n"
     ]
    },
    {
     "name": "stdout",
     "output_type": "stream",
     "text": [
      "base index df size is 98, augmented index df size is 890\n"
     ]
    },
    {
     "name": "stderr",
     "output_type": "stream",
     "text": [
      "63it [04:25,  4.22s/it]\n",
      "Created a chunk of size 609, which is longer than the specified 350\n",
      "Created a chunk of size 354, which is longer than the specified 350\n"
     ]
    },
    {
     "name": "stdout",
     "output_type": "stream",
     "text": [
      "base index df size is 63, augmented index df size is 576\n"
     ]
    },
    {
     "name": "stderr",
     "output_type": "stream",
     "text": [
      "68it [04:55,  4.34s/it]\n",
      "Created a chunk of size 609, which is longer than the specified 350\n",
      "Created a chunk of size 354, which is longer than the specified 350\n"
     ]
    },
    {
     "name": "stdout",
     "output_type": "stream",
     "text": [
      "base index df size is 68, augmented index df size is 572\n"
     ]
    },
    {
     "name": "stderr",
     "output_type": "stream",
     "text": [
      "76it [07:13,  5.70s/it]\n",
      "Created a chunk of size 609, which is longer than the specified 350\n",
      "Created a chunk of size 354, which is longer than the specified 350\n"
     ]
    },
    {
     "name": "stdout",
     "output_type": "stream",
     "text": [
      "base index df size is 76, augmented index df size is 688\n"
     ]
    },
    {
     "name": "stderr",
     "output_type": "stream",
     "text": [
      "85it [06:21,  4.49s/it]\n",
      "Created a chunk of size 609, which is longer than the specified 400\n"
     ]
    },
    {
     "name": "stdout",
     "output_type": "stream",
     "text": [
      "base index df size is 85, augmented index df size is 787\n"
     ]
    },
    {
     "name": "stderr",
     "output_type": "stream",
     "text": [
      "55it [03:54,  4.26s/it]\n",
      "Created a chunk of size 609, which is longer than the specified 400\n"
     ]
    },
    {
     "name": "stdout",
     "output_type": "stream",
     "text": [
      "base index df size is 55, augmented index df size is 514\n"
     ]
    },
    {
     "name": "stderr",
     "output_type": "stream",
     "text": [
      "63it [04:33,  4.34s/it]\n",
      "Created a chunk of size 609, which is longer than the specified 400\n"
     ]
    },
    {
     "name": "stdout",
     "output_type": "stream",
     "text": [
      "base index df size is 63, augmented index df size is 567\n"
     ]
    },
    {
     "name": "stderr",
     "output_type": "stream",
     "text": [
      "68it [04:46,  4.22s/it]\n",
      "Created a chunk of size 609, which is longer than the specified 400\n"
     ]
    },
    {
     "name": "stdout",
     "output_type": "stream",
     "text": [
      "base index df size is 68, augmented index df size is 635\n"
     ]
    },
    {
     "name": "stderr",
     "output_type": "stream",
     "text": [
      "79it [05:58,  4.53s/it]\n",
      "Created a chunk of size 609, which is longer than the specified 450\n"
     ]
    },
    {
     "name": "stdout",
     "output_type": "stream",
     "text": [
      "base index df size is 79, augmented index df size is 754\n"
     ]
    },
    {
     "name": "stderr",
     "output_type": "stream",
     "text": [
      "50it [03:35,  4.31s/it]\n",
      "Created a chunk of size 609, which is longer than the specified 450\n"
     ]
    },
    {
     "name": "stdout",
     "output_type": "stream",
     "text": [
      "base index df size is 50, augmented index df size is 464\n"
     ]
    },
    {
     "name": "stderr",
     "output_type": "stream",
     "text": [
      "56it [04:05,  4.39s/it]\n",
      "Created a chunk of size 609, which is longer than the specified 450\n"
     ]
    },
    {
     "name": "stdout",
     "output_type": "stream",
     "text": [
      "base index df size is 56, augmented index df size is 515\n"
     ]
    },
    {
     "name": "stderr",
     "output_type": "stream",
     "text": [
      "61it [04:40,  4.59s/it]\n",
      "Created a chunk of size 609, which is longer than the specified 450\n"
     ]
    },
    {
     "name": "stdout",
     "output_type": "stream",
     "text": [
      "base index df size is 61, augmented index df size is 556\n"
     ]
    },
    {
     "name": "stderr",
     "output_type": "stream",
     "text": [
      "70it [05:07,  4.39s/it]\n",
      "Created a chunk of size 609, which is longer than the specified 500\n"
     ]
    },
    {
     "name": "stdout",
     "output_type": "stream",
     "text": [
      "base index df size is 70, augmented index df size is 655\n"
     ]
    },
    {
     "name": "stderr",
     "output_type": "stream",
     "text": [
      "46it [03:34,  4.66s/it]\n",
      "Created a chunk of size 609, which is longer than the specified 500\n"
     ]
    },
    {
     "name": "stdout",
     "output_type": "stream",
     "text": [
      "base index df size is 46, augmented index df size is 451\n"
     ]
    },
    {
     "name": "stderr",
     "output_type": "stream",
     "text": [
      "51it [03:43,  4.39s/it]\n",
      "Created a chunk of size 609, which is longer than the specified 500\n"
     ]
    },
    {
     "name": "stdout",
     "output_type": "stream",
     "text": [
      "base index df size is 51, augmented index df size is 465\n"
     ]
    },
    {
     "name": "stderr",
     "output_type": "stream",
     "text": [
      "56it [03:59,  4.27s/it]\n",
      "Created a chunk of size 609, which is longer than the specified 500\n"
     ]
    },
    {
     "name": "stdout",
     "output_type": "stream",
     "text": [
      "base index df size is 56, augmented index df size is 533\n"
     ]
    },
    {
     "name": "stderr",
     "output_type": "stream",
     "text": [
      "70it [05:08,  4.41s/it]"
     ]
    },
    {
     "name": "stdout",
     "output_type": "stream",
     "text": [
      "base index df size is 70, augmented index df size is 673\n"
     ]
    },
    {
     "name": "stderr",
     "output_type": "stream",
     "text": [
      "\n"
     ]
    }
   ],
   "source": [
    "for chunksize, overlap in comb_list:\n",
    "    run(mode='valid', chunksize=chunksize, overlap=overlap)"
   ]
  }
 ],
 "metadata": {
  "kernelspec": {
   "display_name": "rag-1-meYwZ3LN-py3.10",
   "language": "python",
   "name": "python3"
  },
  "language_info": {
   "codemirror_mode": {
    "name": "ipython",
    "version": 3
   },
   "file_extension": ".py",
   "mimetype": "text/x-python",
   "name": "python",
   "nbconvert_exporter": "python",
   "pygments_lexer": "ipython3",
   "version": "3.10.1"
  }
 },
 "nbformat": 4,
 "nbformat_minor": 2
}
